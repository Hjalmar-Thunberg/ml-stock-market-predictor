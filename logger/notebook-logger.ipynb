{
 "cells": [
  {
   "cell_type": "markdown",
   "id": "9b8f6d93",
   "metadata": {},
   "source": [
    "__This notebook is used for testing the logger.__<br>\n",
    "Do not grab the logger from this notebook. <br>\n",
    "Instead import the following:\n",
    "```py\n",
    "import os\n",
    "import sys\n",
    "sys.path.append(os.join(os.getcwd(), 'logger'))\n",
    "from Logger import Logger\n",
    "```"
   ]
  },
  {
   "cell_type": "code",
   "execution_count": 4,
   "id": "4a916c3c",
   "metadata": {},
   "outputs": [],
   "source": [
    "import os\n",
    "import sqlite3\n",
    "from enum import Enum"
   ]
  },
  {
   "cell_type": "code",
   "execution_count": 17,
   "id": "866615d9",
   "metadata": {},
   "outputs": [],
   "source": [
    "class Logger():\n",
    "    \"\"\"\n",
    "    A component used for logging events of other components.\n",
    "    Designed to help increase readibility of logs by allowing the user to\n",
    "    customise their own event messages and specify an urgency.\n",
    "    \n",
    "    Params:\n",
    "        database_name: str - The name the logger will use for the logs database file (e.g. \"logs_scaper.db\") \n",
    "        \n",
    "        working_dir: str - The working directory where the logger will store the log files\n",
    "            default value: '..'\n",
    "    \"\"\"\n",
    "    def __init__(self, database_name, working_dir='..'):\n",
    "        assert type(database_name) is str, 'Database name must be of type str'\n",
    "        assert len(database_name) != 0, 'Database name must be provided to logger'\n",
    "        \n",
    "        assert type(working_dir) is str, 'Working directory must be of type str'\n",
    "        \n",
    "        self.urgency = self._Urgency # Urgency enum entrypoint\n",
    "        self.working_dir = working_dir # The working directory for the logger\n",
    "        self.database_name = database_name # Name of the database\n",
    "        self._conn = None   # Database connection\n",
    "        self._cursor = None # Database cursor\n",
    "        self._connect()\n",
    "        \n",
    "    def _connect(self):\n",
    "        \"\"\"\n",
    "        Establishes the connection and cursor to the database specified\n",
    "        when instantiating the Logger\n",
    "        \"\"\"\n",
    "        # Change to working directory\n",
    "        os.chdir(self.working_dir)\n",
    "        # If the logs directory does not exist, make it\n",
    "        if not os.path.exists(os.path.join(self.working_dir, 'logs')):\n",
    "            os.mkdir('logs')\n",
    "        # Update the working dir to target ../logs and cd into it\n",
    "        self.working_dir = os.path.join(self.working_dir, 'logs')\n",
    "        os.chdir(self.working_dir)\n",
    "        \n",
    "        # Establish a database connection if it does not exist\n",
    "        if self._conn is None:\n",
    "            self._conn = sqlite3.connect(self.database_name)\n",
    "        # Create the cursor from the connection\n",
    "        self._cursor = self._conn.cursor()\n",
    "        \n",
    "    class _Urgency(Enum):\n",
    "        \"\"\"\n",
    "        A private enum class of the Logger component.\n",
    "        Contains urgency levels along with a description of what\n",
    "        the intended meaning is.\n",
    "        \"\"\"\n",
    "        NONE     = 0 # Default value when urgency is not specified\n",
    "        LOW      = 1 # Expected event or result\n",
    "        MODERATE = 2 # Potentially unexpected event or result\n",
    "        HIGH     = 3 # Caught exceptions, unexpected events\n",
    "        SEVERE   = 4 # Exceptions that break the system, bugs, etc."
   ]
  },
  {
   "cell_type": "code",
   "execution_count": 18,
   "id": "c9513cd6",
   "metadata": {},
   "outputs": [],
   "source": [
    "logger = Logger('Test')"
   ]
  },
  {
   "cell_type": "code",
   "execution_count": null,
   "id": "45713cf0",
   "metadata": {},
   "outputs": [],
   "source": []
  }
 ],
 "metadata": {
  "kernelspec": {
   "display_name": "Python 3",
   "language": "python",
   "name": "python3"
  },
  "language_info": {
   "codemirror_mode": {
    "name": "ipython",
    "version": 3
   },
   "file_extension": ".py",
   "mimetype": "text/x-python",
   "name": "python",
   "nbconvert_exporter": "python",
   "pygments_lexer": "ipython3",
   "version": "3.8.8"
  }
 },
 "nbformat": 4,
 "nbformat_minor": 5
}
