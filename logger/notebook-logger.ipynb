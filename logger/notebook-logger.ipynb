{
 "cells": [
  {
   "cell_type": "markdown",
   "id": "9b8f6d93",
   "metadata": {},
   "source": [
    "__This notebook is used for testing the logger.__<br>\n",
    "Do not grab the logger from this notebook. <br>\n",
    "Instead import the following:\n",
    "```py\n",
    "import os\n",
    "import sys\n",
    "logger_path = os.path.join(os.getcwd(), 'logger')\n",
    "if not logger_path in sys.path:\n",
    "    sys.path.append(logger_path)\n",
    "from Logger import Logger\n",
    "```"
   ]
  },
  {
   "cell_type": "code",
   "execution_count": 3,
   "id": "4a916c3c",
   "metadata": {},
   "outputs": [],
   "source": [
    "import os\n",
    "import sqlite3\n",
    "import sys\n",
    "from datetime import datetime\n",
    "from enum import Enum"
   ]
  },
  {
   "cell_type": "code",
   "execution_count": 40,
   "id": "866615d9",
   "metadata": {},
   "outputs": [],
   "source": [
    "class Logger:\n",
    "    \"\"\"\n",
    "    A component used for logging events of other components.\n",
    "    Designed to help increase readibility of logs by allowing the user to\n",
    "    customise their own event messages and specify an urgency.\n",
    "\n",
    "    Params:\n",
    "        database_name: str - The name the logger will use for the logs database file (e.g. \"logs_scaper.db\") .\n",
    "\n",
    "        working_dir: str - The working directory where the logger will store the log files.\n",
    "            default value: '..'\n",
    "    \"\"\"\n",
    "    def __init__(self, database_name, working_dir=''):\n",
    "        assert type(database_name) is str, 'Database name must be of type str'\n",
    "        assert len(database_name) != 0, 'Database name must be provided to logger'\n",
    "\n",
    "        assert type(working_dir) is str, 'Working directory must be of type str'\n",
    "\n",
    "        # Urgency enum entrypoint\n",
    "        self.urgency = self._Urgency\n",
    "        # Today's date in the format Mon_DD_MM_YYYY\n",
    "        self.today = datetime.now(tz=None).strftime('%a_%d_%b_%Y')\n",
    "\n",
    "        # The working directory for the logger\n",
    "        if working_dir == '':\n",
    "            d = os.getcwd()\n",
    "        # Name of the database\n",
    "        self.database_name = database_name\n",
    "\n",
    "        # Database connection\n",
    "        self._conn = None\n",
    "        # Database cursor\n",
    "        self._cursor = None\n",
    "        self._connect()\n",
    "\n",
    "    def _connect(self):\n",
    "        \"\"\"\n",
    "        Establishes the connection and cursor to the database specified\n",
    "        when instantiating the Logger.\n",
    "        \"\"\"\n",
    "        # Change to working directory\n",
    "        os.chdir(self.working_dir)\n",
    "        # If the logs directory does not exist, make it\n",
    "        print(os.path.exists(os.path.join(self.working_dir, 'logs')))\n",
    "        if not os.path.exists(os.path.join(self.working_dir, 'logs')):\n",
    "            os.mkdir('logs')\n",
    "        os.chdir('logs')\n",
    "\n",
    "        # Establish a database connection if it does not exist\n",
    "        if self._conn is None:\n",
    "            self._conn = sqlite3.connect(self.database_name)\n",
    "        # Create the cursor from the connection\n",
    "        self._cursor = self._conn.cursor()\n",
    "\n",
    "    def log(self, message, urgency):\n",
    "        \"\"\"\n",
    "        Log the given message to the database specified when creating\n",
    "        the Logger. Urgency may be specified but is not required.\n",
    "\n",
    "        Params:\n",
    "            message: str - The message to log to the database.\n",
    "\n",
    "            urgency: Logger._Urgency - The severity of the message.\n",
    "                default value: Logger._Urgency.NONE\n",
    "        \"\"\"\n",
    "        pass\n",
    "\n",
    "    def get_timestamp(self):\n",
    "        \"\"\"\n",
    "        Get the current time as a timestamp in the format HH:MM:SS.MS (UTC).\n",
    "\n",
    "        Returns:\n",
    "            A string representing the timestamp.\n",
    "        \"\"\"\n",
    "        # Create the timestamp in the format hours:minutes:seconds.microseconds\n",
    "        timestamp = datetime.now(tz=None).strftime('%H:%M:%S.%f (UTC)')\n",
    "        print(type(timestamp))\n",
    "\n",
    "        pass\n",
    "\n",
    "    class _Urgency(Enum):\n",
    "        \"\"\"\n",
    "        A private enum class of the Logger component.\n",
    "        Contains urgency levels along with a description of what\n",
    "        the intended meaning is.\n",
    "        \"\"\"\n",
    "        NONE     = 0 # Default value when urgency is not specified\n",
    "        LOW      = 1 # Expected event or result\n",
    "        MODERATE = 2 # Potentially unexpected event or result\n",
    "        HIGH     = 3 # Caught exceptions, unexpected events\n",
    "        SEVERE   = 4 # Exceptions that break the system, bugs, etc."
   ]
  },
  {
   "cell_type": "code",
   "execution_count": 41,
   "id": "c9513cd6",
   "metadata": {},
   "outputs": [
    {
     "name": "stdout",
     "output_type": "stream",
     "text": [
      "False\n"
     ]
    },
    {
     "ename": "FileExistsError",
     "evalue": "[Errno 17] File exists: 'logs'",
     "output_type": "error",
     "traceback": [
      "\u001b[0;31m---------------------------------------------------------------------------\u001b[0m",
      "\u001b[0;31mFileExistsError\u001b[0m                           Traceback (most recent call last)",
      "\u001b[0;32m<ipython-input-41-02844da1b667>\u001b[0m in \u001b[0;36m<module>\u001b[0;34m\u001b[0m\n\u001b[0;32m----> 1\u001b[0;31m \u001b[0mlogger\u001b[0m \u001b[0;34m=\u001b[0m \u001b[0mLogger\u001b[0m\u001b[0;34m(\u001b[0m\u001b[0;34m'Test'\u001b[0m\u001b[0;34m)\u001b[0m\u001b[0;34m\u001b[0m\u001b[0;34m\u001b[0m\u001b[0m\n\u001b[0m\u001b[1;32m      2\u001b[0m \u001b[0mlogger\u001b[0m\u001b[0;34m.\u001b[0m\u001b[0mget_timestamp\u001b[0m\u001b[0;34m(\u001b[0m\u001b[0;34m)\u001b[0m\u001b[0;34m\u001b[0m\u001b[0;34m\u001b[0m\u001b[0m\n",
      "\u001b[0;32m<ipython-input-40-46a934d0daa6>\u001b[0m in \u001b[0;36m__init__\u001b[0;34m(self, database_name, working_dir)\u001b[0m\n\u001b[1;32m     31\u001b[0m         \u001b[0;31m# Database cursor\u001b[0m\u001b[0;34m\u001b[0m\u001b[0;34m\u001b[0m\u001b[0;34m\u001b[0m\u001b[0m\n\u001b[1;32m     32\u001b[0m         \u001b[0mself\u001b[0m\u001b[0;34m.\u001b[0m\u001b[0m_cursor\u001b[0m \u001b[0;34m=\u001b[0m \u001b[0;32mNone\u001b[0m\u001b[0;34m\u001b[0m\u001b[0;34m\u001b[0m\u001b[0m\n\u001b[0;32m---> 33\u001b[0;31m         \u001b[0mself\u001b[0m\u001b[0;34m.\u001b[0m\u001b[0m_connect\u001b[0m\u001b[0;34m(\u001b[0m\u001b[0;34m)\u001b[0m\u001b[0;34m\u001b[0m\u001b[0;34m\u001b[0m\u001b[0m\n\u001b[0m\u001b[1;32m     34\u001b[0m \u001b[0;34m\u001b[0m\u001b[0m\n\u001b[1;32m     35\u001b[0m     \u001b[0;32mdef\u001b[0m \u001b[0m_connect\u001b[0m\u001b[0;34m(\u001b[0m\u001b[0mself\u001b[0m\u001b[0;34m)\u001b[0m\u001b[0;34m:\u001b[0m\u001b[0;34m\u001b[0m\u001b[0;34m\u001b[0m\u001b[0m\n",
      "\u001b[0;32m<ipython-input-40-46a934d0daa6>\u001b[0m in \u001b[0;36m_connect\u001b[0;34m(self)\u001b[0m\n\u001b[1;32m     43\u001b[0m         \u001b[0mprint\u001b[0m\u001b[0;34m(\u001b[0m\u001b[0mos\u001b[0m\u001b[0;34m.\u001b[0m\u001b[0mpath\u001b[0m\u001b[0;34m.\u001b[0m\u001b[0mexists\u001b[0m\u001b[0;34m(\u001b[0m\u001b[0mos\u001b[0m\u001b[0;34m.\u001b[0m\u001b[0mpath\u001b[0m\u001b[0;34m.\u001b[0m\u001b[0mjoin\u001b[0m\u001b[0;34m(\u001b[0m\u001b[0mself\u001b[0m\u001b[0;34m.\u001b[0m\u001b[0mworking_dir\u001b[0m\u001b[0;34m,\u001b[0m \u001b[0;34m'logs'\u001b[0m\u001b[0;34m)\u001b[0m\u001b[0;34m)\u001b[0m\u001b[0;34m)\u001b[0m\u001b[0;34m\u001b[0m\u001b[0;34m\u001b[0m\u001b[0m\n\u001b[1;32m     44\u001b[0m         \u001b[0;32mif\u001b[0m \u001b[0;32mnot\u001b[0m \u001b[0mos\u001b[0m\u001b[0;34m.\u001b[0m\u001b[0mpath\u001b[0m\u001b[0;34m.\u001b[0m\u001b[0mexists\u001b[0m\u001b[0;34m(\u001b[0m\u001b[0mos\u001b[0m\u001b[0;34m.\u001b[0m\u001b[0mpath\u001b[0m\u001b[0;34m.\u001b[0m\u001b[0mjoin\u001b[0m\u001b[0;34m(\u001b[0m\u001b[0mself\u001b[0m\u001b[0;34m.\u001b[0m\u001b[0mworking_dir\u001b[0m\u001b[0;34m,\u001b[0m \u001b[0;34m'logs'\u001b[0m\u001b[0;34m)\u001b[0m\u001b[0;34m)\u001b[0m\u001b[0;34m:\u001b[0m\u001b[0;34m\u001b[0m\u001b[0;34m\u001b[0m\u001b[0m\n\u001b[0;32m---> 45\u001b[0;31m             \u001b[0mos\u001b[0m\u001b[0;34m.\u001b[0m\u001b[0mmkdir\u001b[0m\u001b[0;34m(\u001b[0m\u001b[0;34m'logs'\u001b[0m\u001b[0;34m)\u001b[0m\u001b[0;34m\u001b[0m\u001b[0;34m\u001b[0m\u001b[0m\n\u001b[0m\u001b[1;32m     46\u001b[0m         \u001b[0mos\u001b[0m\u001b[0;34m.\u001b[0m\u001b[0mchdir\u001b[0m\u001b[0;34m(\u001b[0m\u001b[0;34m'logs'\u001b[0m\u001b[0;34m)\u001b[0m\u001b[0;34m\u001b[0m\u001b[0;34m\u001b[0m\u001b[0m\n\u001b[1;32m     47\u001b[0m \u001b[0;34m\u001b[0m\u001b[0m\n",
      "\u001b[0;31mFileExistsError\u001b[0m: [Errno 17] File exists: 'logs'"
     ]
    }
   ],
   "source": [
    "logger = Logger('Test')\n",
    "logger.get_timestamp()"
   ]
  },
  {
   "cell_type": "code",
   "execution_count": 15,
   "id": "0653d497",
   "metadata": {},
   "outputs": [
    {
     "name": "stdout",
     "output_type": "stream",
     "text": [
      "['/home/chris/dev/stock-market-predictor/logger', '/home/chris/anaconda3/lib/python38.zip', '/home/chris/anaconda3/lib/python3.8', '/home/chris/anaconda3/lib/python3.8/lib-dynload', '', '/home/chris/anaconda3/lib/python3.8/site-packages', '/home/chris/anaconda3/lib/python3.8/site-packages/locket-0.2.1-py3.8.egg', '/home/chris/anaconda3/lib/python3.8/site-packages/IPython/extensions', '/home/chris/.ipython']\n",
      "/home/chris/dev/stock-market-predictor/logger\n",
      "/home/chris/dev/stock-market-predictor\n"
     ]
    }
   ],
   "source": []
  },
  {
   "cell_type": "code",
   "execution_count": 43,
   "id": "8a5fa6df",
   "metadata": {},
   "outputs": [
    {
     "ename": "NameError",
     "evalue": "name '__file__' is not defined",
     "output_type": "error",
     "traceback": [
      "\u001b[0;31m---------------------------------------------------------------------------\u001b[0m",
      "\u001b[0;31mNameError\u001b[0m                                 Traceback (most recent call last)",
      "\u001b[0;32m<ipython-input-43-c0ae23a43308>\u001b[0m in \u001b[0;36m<module>\u001b[0;34m\u001b[0m\n\u001b[0;32m----> 1\u001b[0;31m \u001b[0mprint\u001b[0m\u001b[0;34m(\u001b[0m\u001b[0m__file__\u001b[0m\u001b[0;34m)\u001b[0m\u001b[0;34m\u001b[0m\u001b[0;34m\u001b[0m\u001b[0m\n\u001b[0m",
      "\u001b[0;31mNameError\u001b[0m: name '__file__' is not defined"
     ]
    }
   ],
   "source": []
  },
  {
   "cell_type": "code",
   "execution_count": null,
   "id": "4ec439bc",
   "metadata": {},
   "outputs": [],
   "source": []
  }
 ],
 "metadata": {
  "kernelspec": {
   "display_name": "Python 3",
   "language": "python",
   "name": "python3"
  },
  "language_info": {
   "codemirror_mode": {
    "name": "ipython",
    "version": 3
   },
   "file_extension": ".py",
   "mimetype": "text/x-python",
   "name": "python",
   "nbconvert_exporter": "python",
   "pygments_lexer": "ipython3",
   "version": "3.8.8"
  }
 },
 "nbformat": 4,
 "nbformat_minor": 5
}
