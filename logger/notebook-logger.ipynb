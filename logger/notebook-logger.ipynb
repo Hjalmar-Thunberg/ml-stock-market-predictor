{
 "cells": [
  {
   "cell_type": "markdown",
   "id": "9b8f6d93",
   "metadata": {},
   "source": [
    "__This notebook is used for testing the logger.__<br>\n",
    "Do not grab the logger from this notebook. <br>\n",
    "Instead import the following:\n",
    "```py\n",
    "import os\n",
    "import sys\n",
    "logger_path = os.path.join(os.getcwd(), 'logger')\n",
    "if not logger_path in sys.path:\n",
    "    sys.path.append(logger_path)\n",
    "from Logger import Logger\n",
    "```"
   ]
  },
  {
   "cell_type": "code",
   "execution_count": 1,
   "id": "4a916c3c",
   "metadata": {},
   "outputs": [],
   "source": [
    "import os\n",
    "import sqlite3\n",
    "import sys\n",
    "from datetime import datetime\n",
    "from enum import Enum"
   ]
  },
  {
   "cell_type": "code",
   "execution_count": 6,
   "id": "866615d9",
   "metadata": {},
   "outputs": [],
   "source": [
    "class Logger:\n",
    "    \"\"\"\n",
    "    A component used for logging events of other components.\n",
    "    Designed to help increase readibility of logs by allowing the user to\n",
    "    customise their own event messages and specify an urgency.\n",
    "\n",
    "    Params:\n",
    "        database_name: str - The name the logger will use for the logs database file (e.g. \"logs_scaper.db\") .\n",
    "    \"\"\"\n",
    "    def __init__(self, database_name):\n",
    "        assert type(database_name) is str, 'Database name must be of type str'\n",
    "        assert len(database_name) != 0, 'Database name must be provided to logger'\n",
    "\n",
    "        # Urgency enum entrypoint\n",
    "        self.urgency = self._Urgency\n",
    "        # Today's date in the format Mon_DD_MM_YYYY\n",
    "        self.today = datetime.now(tz=None).strftime('%a_%d_%b_%Y')\n",
    "\n",
    "        # Name of the database\n",
    "        self.database_name = database_name\n",
    "\n",
    "        # Database connection\n",
    "        self._conn = None\n",
    "        # Database cursor\n",
    "        self._cursor = None\n",
    "        self._connect()\n",
    "\n",
    "    def _connect(self):\n",
    "        \"\"\"\n",
    "        Establishes the connection and cursor to the database specified\n",
    "        when instantiating the Logger.\n",
    "        \"\"\"\n",
    "        # If the last directory is this one move up one folder\n",
    "        if os.getcwd().split(os.sep)[-1] == 'logger':\n",
    "            os.chdir('..')\n",
    "        \n",
    "        # If the logs dir does not exist, create it\n",
    "        if not os.path.exists(os.path.join(os.getcwd(), 'logs')) and \\\n",
    "        os.getcwd().split(os.sep)[-1] != 'logs':\n",
    "            os.mkdir('logs')\n",
    "            \n",
    "        # If the current working dir is not ../logs change into it\n",
    "        if not os.getcwd().split(os.sep)[-1] == 'logs':\n",
    "            os.chdir(os.path.join(os.getcwd(), 'logs'))\n",
    "        \n",
    "        # Establish a database connection if it does not exist\n",
    "        if self._conn is None:\n",
    "            self._conn = sqlite3.connect(self.database_name)\n",
    "        # Create the cursor from the connection\n",
    "        self._cursor = self._conn.cursor()\n",
    "\n",
    "    def log(self, message, urgency):\n",
    "        \"\"\"\n",
    "        Log the given message to the database specified when creating\n",
    "        the Logger. Urgency may be specified but is not required.\n",
    "\n",
    "        Params:\n",
    "            message: str - The message to log to the database.\n",
    "\n",
    "            urgency: Logger._Urgency - The severity of the message.\n",
    "                default value: Logger._Urgency.NONE\n",
    "        \"\"\"\n",
    "        pass\n",
    "\n",
    "    def get_timestamp(self):\n",
    "        \"\"\"\n",
    "        Get the current time as a timestamp in the format HH:MM:SS.MS (UTC).\n",
    "\n",
    "        Returns:\n",
    "            A string representing the timestamp.\n",
    "        \"\"\"\n",
    "        # Create the timestamp in the format hours:minutes:seconds.microseconds\n",
    "        timestamp = datetime.now(tz=None).strftime('%H:%M:%S.%f (UTC)')\n",
    "        print(type(timestamp))\n",
    "\n",
    "        pass\n",
    "\n",
    "    class _Urgency(Enum):\n",
    "        \"\"\"\n",
    "        A private enum class of the Logger component.\n",
    "        Contains urgency levels along with a description of what\n",
    "        the intended meaning is.\n",
    "        \"\"\"\n",
    "        NONE     = 0 # Default value when urgency is not specified\n",
    "        LOW      = 1 # Expected event or result\n",
    "        MODERATE = 2 # Potentially unexpected event or result\n",
    "        HIGH     = 3 # Caught exceptions, unexpected events\n",
    "        SEVERE   = 4 # Exceptions that break the system, bugs, etc."
   ]
  },
  {
   "cell_type": "code",
   "execution_count": 7,
   "id": "c9513cd6",
   "metadata": {},
   "outputs": [
    {
     "name": "stdout",
     "output_type": "stream",
     "text": [
      "<class 'str'>\n"
     ]
    }
   ],
   "source": [
    "logger = Logger('Test')\n",
    "logger.get_timestamp()"
   ]
  },
  {
   "cell_type": "code",
   "execution_count": null,
   "id": "106a4bc7",
   "metadata": {},
   "outputs": [],
   "source": []
  }
 ],
 "metadata": {
  "kernelspec": {
   "display_name": "Python 3",
   "language": "python",
   "name": "python3"
  },
  "language_info": {
   "codemirror_mode": {
    "name": "ipython",
    "version": 3
   },
   "file_extension": ".py",
   "mimetype": "text/x-python",
   "name": "python",
   "nbconvert_exporter": "python",
   "pygments_lexer": "ipython3",
   "version": "3.8.8"
  }
 },
 "nbformat": 4,
 "nbformat_minor": 5
}
