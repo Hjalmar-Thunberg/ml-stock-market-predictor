{
 "cells": [
  {
   "cell_type": "markdown",
   "id": "d89f4d93",
   "metadata": {},
   "source": [
    "__This notebook is used for testing the logger.__<br>\n",
    "Do not grab the logger from this notebook. <br>\n",
    "Instead import the following:\n",
    "```py\n",
    "import os\n",
    "import sys\n",
    "sys.path.append(os.join(os.getcwd(), 'logger'))\n",
    "from Logger import Logger\n",
    "```"
   ]
  },
  {
   "cell_type": "code",
   "execution_count": null,
   "id": "55a3ddae",
   "metadata": {},
   "outputs": [],
   "source": []
  }
 ],
 "metadata": {
  "kernelspec": {
   "display_name": "Python 3",
   "language": "python",
   "name": "python3"
  },
  "language_info": {
   "codemirror_mode": {
    "name": "ipython",
    "version": 3
   },
   "file_extension": ".py",
   "mimetype": "text/x-python",
   "name": "python",
   "nbconvert_exporter": "python",
   "pygments_lexer": "ipython3",
   "version": "3.8.8"
  }
 },
 "nbformat": 4,
 "nbformat_minor": 5
}
