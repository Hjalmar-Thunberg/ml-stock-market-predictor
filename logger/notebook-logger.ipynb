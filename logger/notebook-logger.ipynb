{
 "cells": [
  {
   "cell_type": "markdown",
   "id": "2c3ef69d",
   "metadata": {},
   "source": [
    "__This notebook is used for testing the logger.__<br>\n",
    "Do not grab the logger from this notebook. <br>\n",
    "Instead import the following:\n",
    "```py\n",
    "import os\n",
    "import sys\n",
    "sys.path.append(os.join(os.getcwd(), 'logger'))\n",
    "from Logger import Logger\n",
    "```"
   ]
  },
  {
   "cell_type": "code",
   "execution_count": null,
   "id": "2601f6ec",
   "metadata": {},
   "outputs": [],
   "source": [
    "from enum import Enum"
   ]
  },
  {
   "cell_type": "code",
   "execution_count": null,
   "id": "474241d9",
   "metadata": {},
   "outputs": [],
   "source": [
    "class Logger():\n",
    "    \"\"\"\n",
    "    A component used for logging events of other components.\n",
    "    Designed to help increase readibility of logs by allowing the user to\n",
    "    customise their own event messages and specify an urgency.\n",
    "    \n",
    "    Params:\n",
    "        database_name: str - The name the logger will use for the logs database file (e.g. \"logs_scaper.db\") \n",
    "    \"\"\"\n",
    "    def __init__(self, database_name):\n",
    "        assert type(database_name) is str, 'Database path must be of type str'\n",
    "        assert len(database_name) > 0, 'Database path must be provided to logger'\n",
    "        self.db_name = database_name\n",
    "        \n",
    "    class _Urgency(Enum):\n",
    "        \"\"\"\n",
    "        A private enum class of the Logger component.\n",
    "        Contains urgency levels along with a description of what\n",
    "        the intended meaning is.\n",
    "        \"\"\"\n",
    "        NONE     = 0 # Default value when urgency is not specified\n",
    "        LOW      = 1 # Expected event and/or result\n",
    "        MODERATE = 2 # Potentially unexpected event\n",
    "        HIGH     = 3\n",
    "        SEVERE   = 4"
   ]
  }
 ],
 "metadata": {
  "kernelspec": {
   "display_name": "Python 3",
   "language": "python",
   "name": "python3"
  },
  "language_info": {
   "codemirror_mode": {
    "name": "ipython",
    "version": 3
   },
   "file_extension": ".py",
   "mimetype": "text/x-python",
   "name": "python",
   "nbconvert_exporter": "python",
   "pygments_lexer": "ipython3",
   "version": "3.8.8"
  }
 },
 "nbformat": 4,
 "nbformat_minor": 5
}
