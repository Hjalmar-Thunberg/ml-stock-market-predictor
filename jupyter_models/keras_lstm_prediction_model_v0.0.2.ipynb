{
 "cells": [
  {
   "cell_type": "code",
   "execution_count": null,
   "id": "6123b88a",
   "metadata": {},
   "outputs": [],
   "source": [
    "# Stock Price Predictiong Using Python & Machine Learning with LSTM model (Long Short Term Memory)"
   ]
  },
  {
   "cell_type": "code",
   "execution_count": null,
   "id": "64282461",
   "metadata": {},
   "outputs": [],
   "source": [
    "# import libraries\n",
    "import math                                    # mathematical functions        https://docs.python.org/3/library/math.html\n",
    "import pandas_datareader as web                # data reader for panda         https://pandas-datareader.readthedocs.io/en/latest/\n",
    "import numpy as np                             # numerical data in python      https://numpy.org/doc/stable/user/absolute_beginners.html\n",
    "import pandas as pd                            # data analysis toolkit         https://pandas.pydata.org/pandas-docs/stable/user_guide/10min.html\n",
    "import tensorflow.keras.backend as K\n",
    "import matplotlib.pyplot as plt                # plotting data in figures      https://matplotlib.org/2.0.2/users/pyplot_tutorial.html\n",
    "from sklearn.preprocessing import MinMaxScaler # raw data utility functions    https://scikit-learn.org/stable/modules/preprocessing.html\n",
    "from keras import metrics as metrics\n",
    "import tensorflow as tf\n",
    "import sqlite3\n",
    "import os\n",
    "from keras.models import Sequential            # input output sequence of data https://www.tensorflow.org/guide/keras/sequential_model\n",
    "from datetime import datetime, timedelta       # for manipulating dates        https://docs.python.org/3/library/datetime.html\n",
    "from keras.layers import Dense, LSTM, Dropout  # layers for neural network     https://keras.io/api/layers/\n",
    "plt.style.use('fivethirtyeight')               # plot style                    https://matplotlib.org/3.1.0/gallery/style_sheets/fivethirtyeight.html"
   ]
  },
  {
   "cell_type": "code",
   "execution_count": null,
   "id": "45486b31",
   "metadata": {},
   "outputs": [
    {
     "data": {
      "text/html": [
       "<div>\n",
       "<style scoped>\n",
       "    .dataframe tbody tr th:only-of-type {\n",
       "        vertical-align: middle;\n",
       "    }\n",
       "\n",
       "    .dataframe tbody tr th {\n",
       "        vertical-align: top;\n",
       "    }\n",
       "\n",
       "    .dataframe thead th {\n",
       "        text-align: right;\n",
       "    }\n",
       "</style>\n",
       "<table border=\"1\" class=\"dataframe\">\n",
       "  <thead>\n",
       "    <tr style=\"text-align: right;\">\n",
       "      <th></th>\n",
       "      <th>High</th>\n",
       "      <th>Low</th>\n",
       "      <th>Open</th>\n",
       "      <th>Close</th>\n",
       "      <th>Volume</th>\n",
       "      <th>Adj Close</th>\n",
       "    </tr>\n",
       "    <tr>\n",
       "      <th>Date</th>\n",
       "      <th></th>\n",
       "      <th></th>\n",
       "      <th></th>\n",
       "      <th></th>\n",
       "      <th></th>\n",
       "      <th></th>\n",
       "    </tr>\n",
       "  </thead>\n",
       "  <tbody>\n",
       "    <tr>\n",
       "      <th>2021-03-10</th>\n",
       "      <td>74.830002</td>\n",
       "      <td>60.500000</td>\n",
       "      <td>64.500000</td>\n",
       "      <td>69.500000</td>\n",
       "      <td>97069300</td>\n",
       "      <td>69.500000</td>\n",
       "    </tr>\n",
       "    <tr>\n",
       "      <th>2021-03-11</th>\n",
       "      <td>77.779999</td>\n",
       "      <td>70.129997</td>\n",
       "      <td>74.930000</td>\n",
       "      <td>73.900002</td>\n",
       "      <td>59629300</td>\n",
       "      <td>73.900002</td>\n",
       "    </tr>\n",
       "    <tr>\n",
       "      <th>2021-03-12</th>\n",
       "      <td>72.959999</td>\n",
       "      <td>69.110001</td>\n",
       "      <td>72.470001</td>\n",
       "      <td>69.699997</td>\n",
       "      <td>19714700</td>\n",
       "      <td>69.699997</td>\n",
       "    </tr>\n",
       "    <tr>\n",
       "      <th>2021-03-15</th>\n",
       "      <td>74.059998</td>\n",
       "      <td>66.250000</td>\n",
       "      <td>70.019997</td>\n",
       "      <td>72.150002</td>\n",
       "      <td>19549800</td>\n",
       "      <td>72.150002</td>\n",
       "    </tr>\n",
       "    <tr>\n",
       "      <th>2021-03-16</th>\n",
       "      <td>78.000000</td>\n",
       "      <td>73.180000</td>\n",
       "      <td>73.730003</td>\n",
       "      <td>77.000000</td>\n",
       "      <td>30274400</td>\n",
       "      <td>77.000000</td>\n",
       "    </tr>\n",
       "    <tr>\n",
       "      <th>...</th>\n",
       "      <td>...</td>\n",
       "      <td>...</td>\n",
       "      <td>...</td>\n",
       "      <td>...</td>\n",
       "      <td>...</td>\n",
       "      <td>...</td>\n",
       "    </tr>\n",
       "    <tr>\n",
       "      <th>2021-12-03</th>\n",
       "      <td>120.839996</td>\n",
       "      <td>109.360001</td>\n",
       "      <td>117.889999</td>\n",
       "      <td>113.790001</td>\n",
       "      <td>15515500</td>\n",
       "      <td>113.790001</td>\n",
       "    </tr>\n",
       "    <tr>\n",
       "      <th>2021-12-06</th>\n",
       "      <td>114.269997</td>\n",
       "      <td>104.209999</td>\n",
       "      <td>108.519997</td>\n",
       "      <td>113.250000</td>\n",
       "      <td>15186900</td>\n",
       "      <td>113.250000</td>\n",
       "    </tr>\n",
       "    <tr>\n",
       "      <th>2021-12-07</th>\n",
       "      <td>120.160004</td>\n",
       "      <td>115.099998</td>\n",
       "      <td>118.360001</td>\n",
       "      <td>115.989998</td>\n",
       "      <td>14766600</td>\n",
       "      <td>115.989998</td>\n",
       "    </tr>\n",
       "    <tr>\n",
       "      <th>2021-12-08</th>\n",
       "      <td>125.500000</td>\n",
       "      <td>113.849998</td>\n",
       "      <td>116.040001</td>\n",
       "      <td>124.779999</td>\n",
       "      <td>18371200</td>\n",
       "      <td>124.779999</td>\n",
       "    </tr>\n",
       "    <tr>\n",
       "      <th>2021-12-09</th>\n",
       "      <td>125.978699</td>\n",
       "      <td>120.800003</td>\n",
       "      <td>123.739998</td>\n",
       "      <td>122.250000</td>\n",
       "      <td>5013286</td>\n",
       "      <td>122.250000</td>\n",
       "    </tr>\n",
       "  </tbody>\n",
       "</table>\n",
       "<p>192 rows × 6 columns</p>\n",
       "</div>"
      ],
      "text/plain": [
       "                  High         Low        Open       Close    Volume  \\\n",
       "Date                                                                   \n",
       "2021-03-10   74.830002   60.500000   64.500000   69.500000  97069300   \n",
       "2021-03-11   77.779999   70.129997   74.930000   73.900002  59629300   \n",
       "2021-03-12   72.959999   69.110001   72.470001   69.699997  19714700   \n",
       "2021-03-15   74.059998   66.250000   70.019997   72.150002  19549800   \n",
       "2021-03-16   78.000000   73.180000   73.730003   77.000000  30274400   \n",
       "...                ...         ...         ...         ...       ...   \n",
       "2021-12-03  120.839996  109.360001  117.889999  113.790001  15515500   \n",
       "2021-12-06  114.269997  104.209999  108.519997  113.250000  15186900   \n",
       "2021-12-07  120.160004  115.099998  118.360001  115.989998  14766600   \n",
       "2021-12-08  125.500000  113.849998  116.040001  124.779999  18371200   \n",
       "2021-12-09  125.978699  120.800003  123.739998  122.250000   5013286   \n",
       "\n",
       "             Adj Close  \n",
       "Date                    \n",
       "2021-03-10   69.500000  \n",
       "2021-03-11   73.900002  \n",
       "2021-03-12   69.699997  \n",
       "2021-03-15   72.150002  \n",
       "2021-03-16   77.000000  \n",
       "...                ...  \n",
       "2021-12-03  113.790001  \n",
       "2021-12-06  113.250000  \n",
       "2021-12-07  115.989998  \n",
       "2021-12-08  124.779999  \n",
       "2021-12-09  122.250000  \n",
       "\n",
       "[192 rows x 6 columns]"
      ]
     },
     "execution_count": 23,
     "metadata": {},
     "output_type": "execute_result"
    }
   ],
   "source": [
    "# Stock attributes\n",
    "stock = 'AAPL'\n",
    "source = 'yahoo'\n",
    "today = datetime.now() # todays date (YYYY-MM-DD HH:MM:SS)\n",
    "years = 20            # years back to start from when grabbing stocks, i.e 10 years = 2020-10 = 2010\n",
    "startYear = today-timedelta(days=365*years)\n",
    "\n",
    "# Get stock data using pandas data reader\n",
    "df = web.DataReader(stock, data_source=source, start=startYear, end=today)\n",
    "\n",
    "df"
   ]
  },
  {
   "cell_type": "code",
   "execution_count": null,
   "id": "dc781c24",
   "metadata": {},
   "outputs": [
    {
     "data": {
      "text/plain": [
       "(192, 6)"
      ]
     },
     "execution_count": 24,
     "metadata": {},
     "output_type": "execute_result"
    }
   ],
   "source": [
    "# Get rows and columns from the dataframe\n",
    "df.shape"
   ]
  },
  {
   "cell_type": "code",
   "execution_count": null,
   "id": "d1dfbc5d",
   "metadata": {},
   "outputs": [
    {
     "data": {
      "text/plain": [
       "Text(0, 0.5, 'Close Price USD ($)')"
      ]
     },
     "execution_count": 25,
     "metadata": {},
     "output_type": "execute_result"
    },
    {
     "data": {
      "image/png": "[encoded data removed]",
      "text/plain": [
       "<Figure size 1152x576 with 1 Axes>"
      ]
     },
     "metadata": {},
     "output_type": "display_data"
    }
   ],
   "source": [
    "# Show closing price history\n",
    "plt.figure(figsize=(16,8))\n",
    "plt.title('Closing Price History, source: ' + source)\n",
    "plt.plot(df['Close'])\n",
    "plt.xlabel(stock + ' stock data', fontsize=18)\n",
    "plt.ylabel('Close Price USD ($)', fontsize=18)"
   ]
  },
  {
   "cell_type": "code",
   "execution_count": null,
   "id": "bf508f6a",
   "metadata": {
    "scrolled": true
   },
   "outputs": [
    {
     "data": {
      "text/plain": [
       "array([[0.54854514],\n",
       "       [0.51736933],\n",
       "       [0.53555523],\n",
       "       [0.57155581],\n",
       "       [0.56999703],\n",
       "       [0.49955465],\n",
       "       [0.5233076 ],\n",
       "       [0.51959619],\n",
       "       [0.50475059],\n",
       "       [0.47877078],\n",
       "       [0.50363716],\n",
       "       [0.52679632],\n",
       "       [0.49755046],\n",
       "       [0.48374404],\n",
       "       [0.48122032],\n",
       "       [0.49985151],\n",
       "       [0.52523754],\n",
       "       [0.52939429],\n",
       "       [0.51016926],\n",
       "       [0.52523754],\n",
       "       [0.53317994],\n",
       "       [0.55671021],\n",
       "       [0.60904099],\n",
       "       [0.55930818],\n",
       "       [0.5913005 ],\n",
       "       [0.56301958],\n",
       "       [0.5344418 ],\n",
       "       [0.51395485],\n",
       "       [0.53266034],\n",
       "       [0.51848276],\n",
       "       [0.53280877],\n",
       "       [0.55596794],\n",
       "       [0.55188538],\n",
       "       [0.5614608 ],\n",
       "       [0.56502377],\n",
       "       [0.55336997],\n",
       "       [0.52761284],\n",
       "       [0.51677555],\n",
       "       [0.49428441],\n",
       "       [0.48292753],\n",
       "       [0.50400832],\n",
       "       [0.47505938],\n",
       "       [0.57638065],\n",
       "       [0.56064429],\n",
       "       [0.5172209 ],\n",
       "       [0.52664783],\n",
       "       [0.57103622],\n",
       "       [0.55663596],\n",
       "       [0.55834323],\n",
       "       [0.56658255],\n",
       "       [0.61238123],\n",
       "       [0.66233672],\n",
       "       [0.66300474],\n",
       "       [0.66589963],\n",
       "       [0.7235006 ],\n",
       "       [0.69603619],\n",
       "       [0.71919536],\n",
       "       [0.74124109],\n",
       "       [0.71630047],\n",
       "       [0.73908847],\n",
       "       [0.69358671],\n",
       "       [0.67851843],\n",
       "       [0.67577197],\n",
       "       [0.67547505],\n",
       "       [0.68898455],\n",
       "       [0.65172211],\n",
       "       [0.66656771],\n",
       "       [0.61304925],\n",
       "       [0.6159442 ],\n",
       "       [0.60228621],\n",
       "       [0.61245547],\n",
       "       [0.61193588],\n",
       "       [0.62989905],\n",
       "       [0.64830757],\n",
       "       [0.64578384],\n",
       "       [0.69061758],\n",
       "       [0.68735153],\n",
       "       [0.66790382],\n",
       "       [0.63702493],\n",
       "       [0.63984558],\n",
       "       [0.64563541],\n",
       "       [0.64133017],\n",
       "       [0.64489309],\n",
       "       [0.64029098],\n",
       "       [0.64236936],\n",
       "       [0.62366386],\n",
       "       [0.58766328],\n",
       "       [0.57363419],\n",
       "       [0.57571257],\n",
       "       [0.58818288],\n",
       "       [0.59278503],\n",
       "       [0.5931562 ],\n",
       "       [0.6088925 ],\n",
       "       [0.60740797],\n",
       "       [0.57623216],\n",
       "       [0.56554336],\n",
       "       [0.58736636],\n",
       "       [0.57044238],\n",
       "       [0.57140738],\n",
       "       [0.58127967],\n",
       "       [0.57519297],\n",
       "       [0.60607186],\n",
       "       [0.59805522],\n",
       "       [0.57838478],\n",
       "       [0.63472388],\n",
       "       [0.63153207],\n",
       "       [0.62863719],\n",
       "       [0.61349466],\n",
       "       [0.62321851],\n",
       "       [0.59063242],\n",
       "       [0.58402613],\n",
       "       [0.61950711],\n",
       "       [0.603845  ],\n",
       "       [0.61438536],\n",
       "       [0.63138359],\n",
       "       [0.66255939],\n",
       "       [0.67057598],\n",
       "       [0.63695069],\n",
       "       [0.63390737],\n",
       "       [0.60770488],\n",
       "       [0.60904099],\n",
       "       [0.62685567],\n",
       "       [0.6279691 ],\n",
       "       [0.61512769],\n",
       "       [0.63071556],\n",
       "       [0.61987828],\n",
       "       [0.64095901],\n",
       "       [0.65231589],\n",
       "       [0.62834027],\n",
       "       [0.61111937],\n",
       "       [0.60978326],\n",
       "       [0.60436459],\n",
       "       [0.59983667],\n",
       "       [0.57727135],\n",
       "       [0.58528799],\n",
       "       [0.60258313],\n",
       "       [0.6107482 ],\n",
       "       [0.61772566],\n",
       "       [0.59374998],\n",
       "       [0.57192698],\n",
       "       [0.56643406],\n",
       "       [0.56079277],\n",
       "       [0.56108964],\n",
       "       [0.57749408],\n",
       "       [0.5386728 ],\n",
       "       [0.54706054],\n",
       "       [0.55522567],\n",
       "       [0.52286225],\n",
       "       [0.52122922],\n",
       "       [0.53369953],\n",
       "       [0.55507718],\n",
       "       [0.55188538],\n",
       "       [0.56843825],\n",
       "       [0.57749408],\n",
       "       [0.58766328],\n",
       "       [0.58328386],\n",
       "       [0.61750298],\n",
       "       [0.623367  ],\n",
       "       [0.61765141],\n",
       "       [0.60043051],\n",
       "       [0.59887173],\n",
       "       [0.61423693],\n",
       "       [0.62366386],\n",
       "       [0.60228621],\n",
       "       [0.59078085],\n",
       "       [0.58165083],\n",
       "       [0.6126039 ],\n",
       "       [0.57890437],\n",
       "       [0.57155581],\n",
       "       [0.81294534],\n",
       "       [0.70709621],\n",
       "       [0.72832543],\n",
       "       [0.79854514],\n",
       "       [0.80210805],\n",
       "       [0.86238123],\n",
       "       [0.92562348],\n",
       "       [0.93616391],\n",
       "       [1.        ],\n",
       "       [0.89236936],\n",
       "       [0.85265738],\n",
       "       [0.92213481],\n",
       "       [0.91040677],\n",
       "       [0.96021377],\n",
       "       [0.93601542],\n",
       "       [0.84182009],\n",
       "       [0.86787409],\n",
       "       [0.84464074],\n",
       "       [0.84063242],\n",
       "       [0.86097088],\n",
       "       [0.92621732],\n",
       "       [0.90743764],\n",
       "       [0.        ]])"
      ]
     },
     "execution_count": 26,
     "metadata": {},
     "output_type": "execute_result"
    }
   ],
   "source": [
    "# Create new dataframe with 'Close' column\n",
    "data_target = df.filter(['Close'])\n",
    "\n",
    "# Covert dataframe into a numpy array with a 1 day delay\n",
    "dataset = data_target.shift(-1, fill_value=0).values\n",
    "\n",
    "# Get the number of rows to train the model on, using 80% of the data\n",
    "training_data_len = math.ceil(len(dataset) * .8)\n",
    "\n",
    "# Scale data between 0 and 1 to avoid the bias using normalization\n",
    "scaler = MinMaxScaler(feature_range=(0,1))\n",
    "scaled_data = scaler.fit_transform(dataset)\n",
    "\n",
    "scaled_data"
   ]
  },
  {
   "cell_type": "code",
   "execution_count": null,
   "id": "d565d2a8",
   "metadata": {},
   "outputs": [
    {
     "data": {
      "text/plain": [
       "(145, 9, 1)"
      ]
     },
     "execution_count": 27,
     "metadata": {},
     "output_type": "execute_result"
    }
   ],
   "source": [
    "# Create training dataset\n",
    "# Create the scaled training dataset\n",
    "train_data = scaled_data[0:training_data_len , :]\n",
    "\n",
    "# Split data into x_train and y_train datasets\n",
    "time_interval = int(len(dataset)*0.05) # amount of steps to train on, I.E the amount of data the LSTM uses per \"step\" ex: [0,1,2....60] if time_interval = 10 first LSTM step will be 0-9 and predict 10, second step woule be 1-10 and predict 11. =\n",
    "x_train = []   # past x days, using previous example this would be 0-9\n",
    "y_train = []   # predicted target value.              this would be predicted value for 10\n",
    "\n",
    "# loop for the last x days\n",
    "for i in range(time_interval, len(train_data)):\n",
    "    x_train.append(train_data[i-time_interval:i, 0]) # append closingprice for i day\n",
    "    y_train.append(train_data[i, 0])             # append predicted value\n",
    "    \n",
    "# Convert x_train and y_train to numpy arrays to use in LSTM model\n",
    "x_train, y_train = np.array(x_train), np.array(y_train)\n",
    "\n",
    "# Reshape data from 2D to 3D\n",
    "# LSTM network needs 3D input (number of samples, timesteps and features)\n",
    "x_train = np.reshape(x_train, (x_train.shape[0], x_train.shape[1], 1))\n",
    "x_train.shape"
   ]
  },
  {
   "cell_type": "code",
   "execution_count": null,
   "id": "e7fe8dd1",
   "metadata": {},
   "outputs": [],
   "source": [
    "# Build LSTM model\n",
    "model = Sequential()\n",
    "\n",
    "# # Run first layer with train data as input, 250 nodes, drop 20% when done, only return last output\n",
    "# model.add(LSTM(250, return_sequences=True, input_shape=(x_train.shape[1], 1)))\n",
    "# model.add(Dropout(0.2))\n",
    "\n",
    "# # Run a second layer with 250 nodes, drop 10% \n",
    "# model.add(LSTM(250, return_sequences=True))\n",
    "# model.add(Dropout(0.1))\n",
    "\n",
    "# Run a third layer with 50 nodes, drop 10% when done return whole output\n",
    "model.add(LSTM(500, return_sequences=False))\n",
    "model.add(Dropout(0.1))\n",
    "\n",
    "# Run a fourth layer with 25 nodes and 10% dropout\n",
    "model.add(Dense(25))\n",
    "model.add(Dropout(0.1))\n",
    "\n",
    "model.add(Dense(units = 1))\n"
   ]
  },
  {
   "cell_type": "code",
   "execution_count": null,
   "id": "b38a446c",
   "metadata": {},
   "outputs": [],
   "source": [
    "# Method for calculating RMSE used for loss in model.compile\n",
    "def root_mean_squared_error(y_true, y_pred):\n",
    "    return K.sqrt(K.mean(K.square(y_pred - y_true)))"
   ]
  },
  {
   "cell_type": "code",
   "execution_count": null,
   "id": "556ab420",
   "metadata": {},
   "outputs": [],
   "source": [
    "# Compile model\n",
    "# Optimizer is to improve upon the loss function https://keras.io/api/optimizers/adam/\n",
    "# loss function is used to measure how good the model did on training in terms of RMSE\n",
    "# Metrics is used to evaluate the accuracy of predicitons (currently does not work)\n",
    "model.compile(optimizer='adam', loss=root_mean_squared_error, metrics=[\n",
    "        metrics.MeanSquaredError(name=\"MSE\"),\n",
    "        metrics.MeanAbsoluteError(name=\"MAE\"),\n",
    "        metrics.MeanSquaredLogarithmicError(name=\"MSLE\")\n",
    "    ]\n",
    ")"
   ]
  },
  {
   "cell_type": "code",
   "execution_count": null,
   "id": "90016de0",
   "metadata": {},
   "outputs": [
    {
     "name": "stdout",
     "output_type": "stream",
     "text": [
      "Epoch 1/10\n",
      "4/4 [==============================] - 3s 45ms/step - loss: 0.3372 - MSE: 0.1585 - MAE: 0.3292 - MSLE: 0.0875\n",
      "Epoch 2/10\n",
      "4/4 [==============================] - 0s 51ms/step - loss: 0.0872 - MSE: 0.0080 - MAE: 0.0721 - MSLE: 0.0033\n",
      "Epoch 3/10\n",
      "4/4 [==============================] - 0s 60ms/step - loss: 0.1400 - MSE: 0.0199 - MAE: 0.1283 - MSLE: 0.0071\n",
      "Epoch 4/10\n",
      "4/4 [==============================] - 0s 61ms/step - loss: 0.1383 - MSE: 0.0210 - MAE: 0.1269 - MSLE: 0.0091\n",
      "Epoch 5/10\n",
      "4/4 [==============================] - 0s 69ms/step - loss: 0.1222 - MSE: 0.0159 - MAE: 0.1098 - MSLE: 0.0068\n",
      "Epoch 6/10\n",
      "4/4 [==============================] - 0s 65ms/step - loss: 0.0759 - MSE: 0.0059 - MAE: 0.0646 - MSLE: 0.0022\n",
      "Epoch 7/10\n",
      "4/4 [==============================] - 0s 48ms/step - loss: 0.0564 - MSE: 0.0032 - MAE: 0.0447 - MSLE: 0.0013\n",
      "Epoch 8/10\n",
      "4/4 [==============================] - 0s 46ms/step - loss: 0.0700 - MSE: 0.0049 - MAE: 0.0561 - MSLE: 0.0020\n",
      "Epoch 9/10\n",
      "4/4 [==============================] - 0s 59ms/step - loss: 0.0797 - MSE: 0.0065 - MAE: 0.0693 - MSLE: 0.0025\n",
      "Epoch 10/10\n",
      "4/4 [==============================] - 0s 62ms/step - loss: 0.0620 - MSE: 0.0039 - MAE: 0.0486 - MSLE: 0.0016\n"
     ]
    },
    {
     "data": {
      "text/plain": [
       "<keras.callbacks.History at 0x7f35343cca60>"
      ]
     },
     "execution_count": 31,
     "metadata": {},
     "output_type": "execute_result"
    }
   ],
   "source": [
    "# Train model\n",
    "# Batch size is the total number of training examples present in a single batch.\n",
    "# Epoch is the number of iterations when an entire dataset is passed forward and backward through a neural network\n",
    "model.fit(x_train, y_train, batch_size=48, epochs=10)"
   ]
  },
  {
   "cell_type": "code",
   "execution_count": null,
   "id": "f65a75fa",
   "metadata": {},
   "outputs": [
    {
     "data": {
      "text/plain": [
       "(38, 9, 1)"
      ]
     },
     "execution_count": 32,
     "metadata": {},
     "output_type": "execute_result"
    }
   ],
   "source": [
    "# Create testing dataset\n",
    "# Create a new array containing scaled values\n",
    "test_data = scaled_data[training_data_len - time_interval: :]\n",
    "\n",
    "# Create the data sets x_test and y_test\n",
    "x_test = [] # past x days\n",
    "y_test = dataset[training_data_len:, :] # predicted value\n",
    "\n",
    "# loop for the last x days\n",
    "for i in range(time_interval, len(test_data)):\n",
    "    x_test.append(test_data[i-time_interval:i, 0]) # append closing price for i day\n",
    "    \n",
    "# Convert data into a numpy array to use in LSTM model\n",
    "x_test = np.array(x_test)\n",
    "\n",
    "# Reshape data from 2D to 3D\n",
    "# LSTM network needs 3D input (number of samples, timesteps and features)\n",
    "x_test = np.reshape(x_test, (x_test.shape[0], x_test.shape[1], 1))\n",
    "x_test.shape"
   ]
  },
  {
   "cell_type": "code",
   "execution_count": null,
   "id": "7e15593e",
   "metadata": {},
   "outputs": [],
   "source": [
    "# Get model predicted unscaled closingprice value\n",
    "predictions = model.predict(x_test)\n",
    "predictions = scaler.inverse_transform(predictions)"
   ]
  },
  {
   "cell_type": "code",
   "execution_count": null,
   "id": "7103228a",
   "metadata": {},
   "outputs": [],
   "source": [
    "# calculates the accuracy of our predictions against the actual values within a given percentile\n",
    "def accuracy_calc(percentage):\n",
    "    actual = y_test\n",
    "    ok_accuracy = 0\n",
    "    total = actual.size\n",
    "    threshold = (100 - percentage) / 100\n",
    "    lower = 1-threshold\n",
    "    upper = 1+threshold\n",
    "\n",
    "    for i in range(total):\n",
    "        cur_act = actual[i]\n",
    "        cur_pred = predictions[i]\n",
    "        if cur_act >= cur_pred*lower and cur_act <= cur_pred*upper:\n",
    "            ok_accuracy +=1\n",
    "    acc = ok_accuracy/total\n",
    "    print(f\"Percentage of predicted values within {percentage}% margin of actual: {acc}\")"
   ]
  },
  {
   "cell_type": "code",
   "execution_count": null,
   "id": "460b561c",
   "metadata": {
    "scrolled": true
   },
   "outputs": [
    {
     "name": "stdout",
     "output_type": "stream",
     "text": [
      "RMSE:  tf.Tensor(23.521680286610355, shape=(), dtype=float64)\n",
      "Percentage of predicted values within 50% margin of actual: 0.9736842105263158\n",
      "Percentage of predicted values within 60% margin of actual: 0.9473684210526315\n",
      "Percentage of predicted values within 70% margin of actual: 0.868421052631579\n",
      "Percentage of predicted values within 80% margin of actual: 0.6842105263157895\n",
      "Percentage of predicted values within 90% margin of actual: 0.42105263157894735\n",
      "Percentage of predicted values within 95% margin of actual: 0.13157894736842105\n",
      "Percentage of predicted values within 99% margin of actual: 0.0\n",
      "5/5 [==============================] - 1s 7ms/step - loss: 100.9242 - MSE: 10451.4072 - MAE: 99.1461 - MSLE: 16.5313\n"
     ]
    },
    {
     "data": {
      "text/plain": [
       "[100.92422485351562, 10451.4072265625, 99.14612579345703, 16.531269073486328]"
      ]
     },
     "execution_count": 35,
     "metadata": {},
     "output_type": "execute_result"
    }
   ],
   "source": [
    "print(\"RMSE: \", root_mean_squared_error(y_test, predictions))\n",
    "accuracy_calc(50)\n",
    "accuracy_calc(60)\n",
    "accuracy_calc(70)\n",
    "accuracy_calc(80)\n",
    "accuracy_calc(90)\n",
    "accuracy_calc(95)\n",
    "accuracy_calc(99)\n",
    "\n",
    "# Evaluate model \n",
    "model.evaluate(x_test, y_test, batch_size=8)"
   ]
  },
  {
   "cell_type": "code",
   "execution_count": null,
   "id": "5ad20f30",
   "metadata": {},
   "outputs": [
    {
     "name": "stderr",
     "output_type": "stream",
     "text": [
      "<ipython-input-36-616a3c9dfdaa>:4: SettingWithCopyWarning: \n",
      "A value is trying to be set on a copy of a slice from a DataFrame.\n",
      "Try using .loc[row_indexer,col_indexer] = value instead\n",
      "\n",
      "See the caveats in the documentation: https://pandas.pydata.org/pandas-docs/stable/user_guide/indexing.html#returning-a-view-versus-a-copy\n",
      "  valid['Predictions'] = predictions\n"
     ]
    },
    {
     "data": {
      "image/png": "[encoded data removed]",
      "text/plain": [
       "<Figure size 1152x576 with 1 Axes>"
      ]
     },
     "metadata": {},
     "output_type": "display_data"
    }
   ],
   "source": [
    "# Plot data\n",
    "train = data_target[:training_data_len]\n",
    "valid = data_target[training_data_len:]\n",
    "valid['Predictions'] = predictions\n",
    "\n",
    "# Visualize data\n",
    "plt.figure(figsize=(16,8))\n",
    "plt.title('Predictions VS Actual')\n",
    "plt.xlabel(stock + ' stock data', fontsize=18)\n",
    "plt.ylabel('Closing Price USD ($)', fontsize=18)\n",
    "plt.plot(valid[['Close', 'Predictions']])\n",
    "plt.legend(['Val', 'Predictions'], loc='lower right')\n",
    "plt.show()"
   ]
  },
  {
   "cell_type": "code",
   "execution_count": null,
   "id": "a413fcdc",
   "metadata": {},
   "outputs": [
    {
     "data": {
      "text/plain": [
       "array([[ 71.05867 ],\n",
       "       [ 71.93086 ],\n",
       "       [ 72.60302 ],\n",
       "       [ 73.746864],\n",
       "       [ 74.96413 ],\n",
       "       [ 75.87241 ],\n",
       "       [ 76.180336],\n",
       "       [ 76.20725 ],\n",
       "       [ 76.383064],\n",
       "       [ 76.76164 ],\n",
       "       [ 76.76133 ],\n",
       "       [ 76.42063 ],\n",
       "       [ 75.80046 ],\n",
       "       [ 75.756874],\n",
       "       [ 75.35785 ],\n",
       "       [ 74.76412 ],\n",
       "       [ 78.50219 ],\n",
       "       [ 81.36602 ],\n",
       "       [ 83.66934 ],\n",
       "       [ 86.68731 ],\n",
       "       [ 89.533455],\n",
       "       [ 92.88405 ],\n",
       "       [ 96.93314 ],\n",
       "       [100.80101 ],\n",
       "       [105.03107 ],\n",
       "       [106.44048 ],\n",
       "       [106.168816],\n",
       "       [106.48278 ],\n",
       "       [106.71928 ],\n",
       "       [107.79489 ],\n",
       "       [108.50243 ],\n",
       "       [107.22653 ],\n",
       "       [105.91891 ],\n",
       "       [104.37495 ],\n",
       "       [103.1275  ],\n",
       "       [102.539986],\n",
       "       [103.32424 ],\n",
       "       [104.222244]], dtype=float32)"
      ]
     },
     "execution_count": 37,
     "metadata": {},
     "output_type": "execute_result"
    }
   ],
   "source": [
    "# Show all valid and predicted prices\n",
    "predictions"
   ]
  },
  {
   "cell_type": "code",
   "execution_count": null,
   "id": "6f30f02c",
   "metadata": {},
   "outputs": [],
   "source": []
  },
  {
   "cell_type": "code",
   "execution_count": null,
   "id": "8316b773",
   "metadata": {},
   "outputs": [
    {
     "name": "stderr",
     "output_type": "stream",
     "text": [
      "WARNING:absl:Found untraced functions such as lstm_cell_1_layer_call_and_return_conditional_losses, lstm_cell_1_layer_call_fn, lstm_cell_1_layer_call_fn, lstm_cell_1_layer_call_and_return_conditional_losses, lstm_cell_1_layer_call_and_return_conditional_losses while saving (showing 5 of 5). These functions will not be directly callable after loading.\n"
     ]
    },
    {
     "name": "stdout",
     "output_type": "stream",
     "text": [
      "INFO:tensorflow:Assets written to: RBLX_lstm_model_1/assets\n"
     ]
    },
    {
     "name": "stderr",
     "output_type": "stream",
     "text": [
      "INFO:tensorflow:Assets written to: RBLX_lstm_model_1/assets\n"
     ]
    },
    {
     "name": "stdout",
     "output_type": "stream",
     "text": [
      "None\n"
     ]
    }
   ],
   "source": []
  },
  {
   "cell_type": "code",
   "execution_count": null,
   "id": "78f01a83",
   "metadata": {},
   "outputs": [],
   "source": []
  }
 ],
 "metadata": {
  "kernelspec": {
   "display_name": "Python 3",
   "language": "python",
   "name": "python3"
  },
  "language_info": {
   "codemirror_mode": {
    "name": "ipython",
    "version": 3
   },
   "file_extension": ".py",
   "mimetype": "text/x-python",
   "name": "python",
   "nbconvert_exporter": "python",
   "pygments_lexer": "ipython3",
   "version": "2.7.17"
  }
 },
 "nbformat": 4,
 "nbformat_minor": 5
}
